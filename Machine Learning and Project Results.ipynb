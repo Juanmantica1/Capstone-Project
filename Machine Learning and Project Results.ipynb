{
 "cells": [
  {
   "cell_type": "code",
   "execution_count": 60,
   "metadata": {
    "collapsed": true
   },
   "outputs": [],
   "source": [
    "import numpy as np\n",
    "import pandas as pd\n",
    "import matplotlib.pyplot as plt\n",
    "import sklearn"
   ]
  },
  {
   "cell_type": "code",
   "execution_count": 61,
   "metadata": {},
   "outputs": [
    {
     "name": "stdout",
     "output_type": "stream",
     "text": [
      "Importing Jupyter notebook from Data_Story_telling_and_Inferential_Stats.ipynb\n"
     ]
    },
    {
     "data": {
      "text/plain": [
       "<module 'Data_Story_telling_and_Inferential_Stats' from 'Data_Story_telling_and_Inferential_Stats.ipynb'>"
      ]
     },
     "execution_count": 61,
     "metadata": {},
     "output_type": "execute_result"
    }
   ],
   "source": [
    "import nbimporter\n",
    "import Data_Story_telling_and_Inferential_Stats as DLS\n",
    "reload(DLS)"
   ]
  },
  {
   "cell_type": "code",
   "execution_count": 62,
   "metadata": {
    "collapsed": true
   },
   "outputs": [],
   "source": [
    "df_train=pd.read_csv('train_data')\n",
    "df_test=pd.read_csv('test_data')\n",
    "df_validate=pd.read_csv('validate_data')\n",
    "full_df=pd.read_csv('final_data')"
   ]
  },
  {
   "cell_type": "code",
   "execution_count": 63,
   "metadata": {},
   "outputs": [],
   "source": [
    "DLS.drop_irelevants(df_train)\n",
    "DLS.drop_irelevants(df_test)\n",
    "DLS.drop_irelevants(df_validate)\n",
    "DLS.drop_irelevants(full_df)"
   ]
  },
  {
   "cell_type": "code",
   "execution_count": 64,
   "metadata": {},
   "outputs": [
    {
     "name": "stderr",
     "output_type": "stream",
     "text": [
      "Data_Story_telling_and_Inferential_Stats.ipynb:5: RuntimeWarning: divide by zero encountered in log10\n",
      "  \"metadata\": {},\n"
     ]
    }
   ],
   "source": [
    "new_list=DLS.divide_int_float_strings(df_train)[0]\n",
    "dict_transform=DLS.better_relations(df_train,new_list)[1]\n",
    "df_train=DLS.transform_data(df_train,dict_transform)\n",
    "df_test=DLS.transform_data(df_test,dict_transform)\n",
    "df_validate=DLS.transform_data(df_validate,dict_transform)\n",
    "full_df=DLS.transform_data(full_df,dict_transform)"
   ]
  },
  {
   "cell_type": "code",
   "execution_count": 65,
   "metadata": {
    "collapsed": true
   },
   "outputs": [],
   "source": [
    "from sklearn.feature_extraction.text import CountVectorizer\n",
    "def turn_into_list(feature):\n",
    "    vectorizer = CountVectorizer(min_df=0)\n",
    "    vectorizer.fit_transform(full_df[feature])\n",
    "    x=vectorizer.transform(df_train[feature])\n",
    "    df_train[feature]=x.toarray().tolist()\n",
    "    X=vectorizer.transform(df_test[feature])\n",
    "    df_test[feature]=X.toarray().tolist()\n",
    "    x_validate=vectorizer.transform(df_validate[feature])\n",
    "    df_validate[feature]=x_validate.toarray().tolist()\n",
    "turn_into_list('genres')\n",
    "turn_into_list('plot_keywords')"
   ]
  },
  {
   "cell_type": "code",
   "execution_count": 66,
   "metadata": {
    "collapsed": true
   },
   "outputs": [],
   "source": [
    "X_train=df_train.drop('gross', axis = 1)\n",
    "X_test = df_test.drop('gross', axis = 1)\n",
    "x_validate=df_validate.drop('gross', axis = 1)\n",
    "X_full=full_df.drop('gross', axis = 1)\n",
    "Y_full=full_df.gross\n",
    "Y_train=df_train.gross\n",
    "Y_test=df_test.gross\n",
    "y_validate=df_validate.gross"
   ]
  },
  {
   "cell_type": "code",
   "execution_count": 67,
   "metadata": {
    "scrolled": false
   },
   "outputs": [],
   "source": [
    "from sklearn.feature_extraction import DictVectorizer as DV\n",
    "from sklearn.cross_validation import train_test_split\n",
    "full_dict = full_df.to_dict(orient='records')\n",
    "train_dict = X_train.to_dict(orient='records')\n",
    "test_dict = X_test.to_dict(orient='records')\n",
    "validate_dict=x_validate.to_dict(orient='records')\n",
    "vectorizer=DV( sparse = False )\n",
    "vec=vectorizer.fit(full_dict)\n",
    "Xtrain=vec.transform(train_dict)\n",
    "Xtest=vec.transform(test_dict)\n",
    "Xvalidate=vec.transform(validate_dict)"
   ]
  },
  {
   "cell_type": "code",
   "execution_count": 68,
   "metadata": {},
   "outputs": [
    {
     "data": {
      "text/plain": [
       "LinearRegression(copy_X=True, fit_intercept=True, n_jobs=1, normalize=False)"
      ]
     },
     "execution_count": 68,
     "metadata": {},
     "output_type": "execute_result"
    }
   ],
   "source": [
    "from sklearn.linear_model import LinearRegression\n",
    "lm = LinearRegression(fit_intercept=True)\n",
    "lm.fit(Xtrain,Y_train)"
   ]
  },
  {
   "cell_type": "code",
   "execution_count": 69,
   "metadata": {
    "scrolled": true
   },
   "outputs": [
    {
     "data": {
      "image/png": "[encoded data removed]",
      "text/plain": [
       "<matplotlib.figure.Figure at 0x7ff3f3d09250>"
      ]
     },
     "metadata": {},
     "output_type": "display_data"
    }
   ],
   "source": [
    "plt.scatter(Y_train,lm.predict(Xtrain)[:])\n",
    "plt.xlabel(\"Actual Price\")\n",
    "plt.ylabel(\"Predicted Price\")\n",
    "plt.title(\"Relationship between Predicted and Actual\")\n",
    "plt.show()"
   ]
  },
  {
   "cell_type": "markdown",
   "metadata": {},
   "source": []
  },
  {
   "cell_type": "code",
   "execution_count": 70,
   "metadata": {},
   "outputs": [
    {
     "data": {
      "text/plain": [
       "0.99540006691882377"
      ]
     },
     "execution_count": 70,
     "metadata": {},
     "output_type": "execute_result"
    }
   ],
   "source": [
    "from sklearn.metrics import r2_score\n",
    "r2_score(Y_train,lm.predict(Xtrain)[:])"
   ]
  },
  {
   "cell_type": "code",
   "execution_count": 72,
   "metadata": {},
   "outputs": [
    {
     "data": {
      "text/plain": [
       "-489482.07122608775"
      ]
     },
     "execution_count": 72,
     "metadata": {},
     "output_type": "execute_result"
    }
   ],
   "source": [
    "r2_score(y_validate,lm.predict(Xvalidate)[:])"
   ]
  }
 ],
 "metadata": {
  "kernelspec": {
   "display_name": "Python 2",
   "language": "python",
   "name": "python2"
  },
  "language_info": {
   "codemirror_mode": {
    "name": "ipython",
    "version": 2
   },
   "file_extension": ".py",
   "mimetype": "text/x-python",
   "name": "python",
   "nbconvert_exporter": "python",
   "pygments_lexer": "ipython2",
   "version": "2.7.13"
  }
 },
 "nbformat": 4,
 "nbformat_minor": 2
}
