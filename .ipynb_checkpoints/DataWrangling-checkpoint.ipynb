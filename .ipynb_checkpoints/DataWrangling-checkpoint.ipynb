{
 "cells": [
  {
   "cell_type": "markdown",
   "metadata": {},
   "source": [
    "# Data Wrangling\n",
    "The database I will be working on was made, by another data science student named Chuan Sun from the New York Data Science Academy. His finished database has 28 features including the movie title, budget, gross box office among others.\n",
    "However, the database has three important flaws: it has some null values for gross box office(which I am trying to predict), inflation is not taken into account (so movies from earlier years will seem less succesful) and it does not take account the difference in currencies (so a US dollar will have the same value as a Japanese yen)."
   ]
  },
  {
   "cell_type": "code",
   "execution_count": 85,
   "metadata": {
    "collapsed": true
   },
   "outputs": [],
   "source": [
    "import pandas as pd\n",
    "df = pd.read_csv('movie_metadata.csv')\n",
    "import matplotlib.pyplot as plt\n",
    "%matplotlib inline "
   ]
  },
  {
   "cell_type": "code",
   "execution_count": 86,
   "metadata": {
    "collapsed": true
   },
   "outputs": [],
   "source": [
    "df = df[pd.notnull(df['gross'])]"
   ]
  },
  {
   "cell_type": "markdown",
   "metadata": {},
   "source": [
    "Here I dropped the rows which had a null value for box office as they would not help my model"
   ]
  },
  {
   "cell_type": "code",
   "execution_count": 87,
   "metadata": {},
   "outputs": [
    {
     "data": {
      "text/plain": [
       "(28,\n",
       " ['color',\n",
       "  'director_name',\n",
       "  'num_critic_for_reviews',\n",
       "  'duration',\n",
       "  'director_facebook_likes',\n",
       "  'actor_3_facebook_likes',\n",
       "  'actor_2_name',\n",
       "  'actor_1_facebook_likes',\n",
       "  'gross',\n",
       "  'genres',\n",
       "  'actor_1_name',\n",
       "  'movie_title',\n",
       "  'num_voted_users',\n",
       "  'cast_total_facebook_likes',\n",
       "  'actor_3_name',\n",
       "  'facenumber_in_poster',\n",
       "  'plot_keywords',\n",
       "  'movie_imdb_link',\n",
       "  'num_user_for_reviews',\n",
       "  'language',\n",
       "  'country',\n",
       "  'content_rating',\n",
       "  'budget',\n",
       "  'title_year',\n",
       "  'actor_2_facebook_likes',\n",
       "  'imdb_score',\n",
       "  'aspect_ratio',\n",
       "  'movie_facebook_likes'])"
      ]
     },
     "execution_count": 87,
     "metadata": {},
     "output_type": "execute_result"
    }
   ],
   "source": [
    "len(list(df)),list(df)"
   ]
  },
  {
   "cell_type": "code",
   "execution_count": 88,
   "metadata": {},
   "outputs": [
    {
     "data": {
      "text/plain": [
       "<matplotlib.axes._subplots.AxesSubplot at 0x7ff33cf4a650>"
      ]
     },
     "execution_count": 88,
     "metadata": {},
     "output_type": "execute_result"
    },
    {
     "data": {
      "image/png": "[encoded data removed]",
      "text/plain": [
       "<matplotlib.figure.Figure at 0x7ff344163150>"
      ]
     },
     "metadata": {},
     "output_type": "display_data"
    }
   ],
   "source": [
    "df[['gross','country']].groupby('country').size().plot('bar')\n",
    "#While the plot does not look nicely it gives us a sense that most movies belong to one country"
   ]
  },
  {
   "cell_type": "code",
   "execution_count": 89,
   "metadata": {
    "scrolled": true
   },
   "outputs": [
    {
     "data": {
      "text/html": [
       "<div>\n",
       "<style>\n",
       "    .dataframe thead tr:only-child th {\n",
       "        text-align: right;\n",
       "    }\n",
       "\n",
       "    .dataframe thead th {\n",
       "        text-align: left;\n",
       "    }\n",
       "\n",
       "    .dataframe tbody tr th {\n",
       "        vertical-align: top;\n",
       "    }\n",
       "</style>\n",
       "<table border=\"1\" class=\"dataframe\">\n",
       "  <thead>\n",
       "    <tr style=\"text-align: right;\">\n",
       "      <th></th>\n",
       "      <th>movie_title</th>\n",
       "    </tr>\n",
       "    <tr>\n",
       "      <th>title_year</th>\n",
       "      <th></th>\n",
       "    </tr>\n",
       "  </thead>\n",
       "  <tbody>\n",
       "    <tr>\n",
       "      <th>2006.0</th>\n",
       "      <td>216</td>\n",
       "    </tr>\n",
       "    <tr>\n",
       "      <th>2009.0</th>\n",
       "      <td>215</td>\n",
       "    </tr>\n",
       "    <tr>\n",
       "      <th>2005.0</th>\n",
       "      <td>203</td>\n",
       "    </tr>\n",
       "    <tr>\n",
       "      <th>2008.0</th>\n",
       "      <td>201</td>\n",
       "    </tr>\n",
       "    <tr>\n",
       "      <th>2002.0</th>\n",
       "      <td>200</td>\n",
       "    </tr>\n",
       "    <tr>\n",
       "      <th>2004.0</th>\n",
       "      <td>200</td>\n",
       "    </tr>\n",
       "    <tr>\n",
       "      <th>2010.0</th>\n",
       "      <td>199</td>\n",
       "    </tr>\n",
       "    <tr>\n",
       "      <th>2011.0</th>\n",
       "      <td>191</td>\n",
       "    </tr>\n",
       "    <tr>\n",
       "      <th>2001.0</th>\n",
       "      <td>188</td>\n",
       "    </tr>\n",
       "    <tr>\n",
       "      <th>2013.0</th>\n",
       "      <td>187</td>\n",
       "    </tr>\n",
       "  </tbody>\n",
       "</table>\n",
       "</div>"
      ],
      "text/plain": [
       "            movie_title\n",
       "title_year             \n",
       "2006.0              216\n",
       "2009.0              215\n",
       "2005.0              203\n",
       "2008.0              201\n",
       "2002.0              200\n",
       "2004.0              200\n",
       "2010.0              199\n",
       "2011.0              191\n",
       "2001.0              188\n",
       "2013.0              187"
      ]
     },
     "execution_count": 89,
     "metadata": {},
     "output_type": "execute_result"
    }
   ],
   "source": [
    "df[['movie_title','title_year']].groupby('title_year').count().sort_values('movie_title',ascending=False).head(10)"
   ]
  },
  {
   "cell_type": "markdown",
   "metadata": {},
   "source": [
    "Becsause a signficant amount of the movies are not from the US I will not be able to just drop the countries, instead I will use the python package: easymoney, to adjust for inflation and to adjust for the different currencies"
   ]
  },
  {
   "cell_type": "code",
   "execution_count": 90,
   "metadata": {},
   "outputs": [
    {
     "data": {
      "text/plain": [
       "124.45"
      ]
     },
     "execution_count": 90,
     "metadata": {},
     "output_type": "execute_result"
    }
   ],
   "source": [
    "from easymoney.money import EasyPeasy\n",
    "ep = EasyPeasy()\n",
    "ep.normalize(amount=100, region=\"France\", from_year=2010, to_year=\"latest\", base_currency=\"USD\")"
   ]
  },
  {
   "cell_type": "code",
   "execution_count": 91,
   "metadata": {},
   "outputs": [
    {
     "data": {
      "text/plain": [
       "4159"
      ]
     },
     "execution_count": 91,
     "metadata": {},
     "output_type": "execute_result"
    }
   ],
   "source": [
    "len(df)"
   ]
  },
  {
   "cell_type": "code",
   "execution_count": null,
   "metadata": {
    "collapsed": true
   },
   "outputs": [],
   "source": []
  },
  {
   "cell_type": "code",
   "execution_count": 92,
   "metadata": {
    "collapsed": true
   },
   "outputs": [],
   "source": [
    "normalize_gross=[]\n",
    "drop_index=[]\n",
    "normalize_budget\n",
    "for items in range(len(df)):\n",
    "    try:\n",
    "        normalized_item=ep.normalize(amount=df['gross'][items], region=df['country'][items], from_year=df['title_year'][items], to_year=\"latest\", base_currency=\"USD\")\n",
    "        normalized_item2=ep.normalize(amount=df['budget'][items], region=df['country'][items], from_year=df['title_year'][items], to_year=\"latest\", base_currency=\"USD\")\n",
    "        normalize_gross.append(normalized_item)\n",
    "        \n",
    "    except: \n",
    "        drop_index.append(items)\n",
    "\n"
   ]
  },
  {
   "cell_type": "code",
   "execution_count": 93,
   "metadata": {
    "collapsed": true
   },
   "outputs": [],
   "source": [
    "df=df.drop(df.index[drop_index])"
   ]
  },
  {
   "cell_type": "code",
   "execution_count": 94,
   "metadata": {},
   "outputs": [
    {
     "data": {
      "text/plain": [
       "(3305, 3305)"
      ]
     },
     "execution_count": 94,
     "metadata": {},
     "output_type": "execute_result"
    }
   ],
   "source": [
    "len(normalize_gross), len(df)"
   ]
  },
  {
   "cell_type": "code",
   "execution_count": 105,
   "metadata": {
    "collapsed": true
   },
   "outputs": [],
   "source": [
    "df['gross']=normalize_gross\n",
    "\n",
    "df.to_csv(path_or_buf=('movie_metadata_final.csv'))"
   ]
  },
  {
   "cell_type": "markdown",
   "metadata": {},
   "source": [
    "As you can see I normalized gross into the current year and into USA dollars; however, because some of the rows had a combination of year and countries that were not avaible to the CPI index that 'easy money' stems from, I had to drop those rows from my dataframe leaving me 3305 rows to work with"
   ]
  }
 ],
 "metadata": {
  "kernelspec": {
   "display_name": "Python 2",
   "language": "python",
   "name": "python2"
  },
  "language_info": {
   "codemirror_mode": {
    "name": "ipython",
    "version": 2
   },
   "file_extension": ".py",
   "mimetype": "text/x-python",
   "name": "python",
   "nbconvert_exporter": "python",
   "pygments_lexer": "ipython2",
   "version": "2.7.13"
  }
 },
 "nbformat": 4,
 "nbformat_minor": 2
}
