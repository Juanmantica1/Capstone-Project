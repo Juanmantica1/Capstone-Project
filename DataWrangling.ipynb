{
 "cells": [
  {
   "cell_type": "markdown",
   "metadata": {},
   "source": [
    "# Data Wrangling\n",
    "The database I will be working on was made, by another data science student named Chuan Sun from the New York Data Science Academy. His finished database has 28 features including the movie title, budget, gross box office among others.\n",
    "However, the database has three important flaws: it has some null values for gross box office(which I am trying to predict), inflation is not taken into account (so movies from earlier years will seem less succesful) and it does not take account the difference in currencies (so a US dollar will have the same value as a Japanese yen)."
   ]
  },
  {
   "cell_type": "code",
   "execution_count": 2,
   "metadata": {
    "collapsed": true
   },
   "outputs": [],
   "source": [
    "import pandas as pd\n",
    "import numpy as np\n",
    "df = pd.read_csv('movie_metadata.csv')\n",
    "import matplotlib.pyplot as plt\n",
    "%matplotlib inline "
   ]
  },
  {
   "cell_type": "code",
   "execution_count": 3,
   "metadata": {
    "collapsed": true
   },
   "outputs": [],
   "source": [
    "df = df[pd.notnull(df['gross'])]"
   ]
  },
  {
   "cell_type": "code",
   "execution_count": 4,
   "metadata": {
    "collapsed": true
   },
   "outputs": [],
   "source": [
    "df=df.dropna()"
   ]
  },
  {
   "cell_type": "markdown",
   "metadata": {},
   "source": [
    "Here I dropped the rows which had a null value for box office as they would not help my model"
   ]
  },
  {
   "cell_type": "code",
   "execution_count": 5,
   "metadata": {},
   "outputs": [
    {
     "data": {
      "text/plain": [
       "<matplotlib.axes._subplots.AxesSubplot at 0x7f788e466350>"
      ]
     },
     "execution_count": 5,
     "metadata": {},
     "output_type": "execute_result"
    },
    {
     "data": {
      "image/png": "[encoded data removed]",
      "text/plain": [
       "<matplotlib.figure.Figure at 0x7f788e3fb990>"
      ]
     },
     "metadata": {},
     "output_type": "display_data"
    }
   ],
   "source": [
    "df[['gross','country']].groupby('country').size().plot('bar')\n",
    "#While the plot does not look nicely it gives us a sense that most movies belong to one country\n"
   ]
  },
  {
   "cell_type": "code",
   "execution_count": 6,
   "metadata": {
    "scrolled": true
   },
   "outputs": [
    {
     "data": {
      "text/html": [
       "<div>\n",
       "<style>\n",
       "    .dataframe thead tr:only-child th {\n",
       "        text-align: right;\n",
       "    }\n",
       "\n",
       "    .dataframe thead th {\n",
       "        text-align: left;\n",
       "    }\n",
       "\n",
       "    .dataframe tbody tr th {\n",
       "        vertical-align: top;\n",
       "    }\n",
       "</style>\n",
       "<table border=\"1\" class=\"dataframe\">\n",
       "  <thead>\n",
       "    <tr style=\"text-align: right;\">\n",
       "      <th></th>\n",
       "      <th>movie_title</th>\n",
       "    </tr>\n",
       "    <tr>\n",
       "      <th>title_year</th>\n",
       "      <th></th>\n",
       "    </tr>\n",
       "  </thead>\n",
       "  <tbody>\n",
       "    <tr>\n",
       "      <th>2002.0</th>\n",
       "      <td>190</td>\n",
       "    </tr>\n",
       "    <tr>\n",
       "      <th>2006.0</th>\n",
       "      <td>189</td>\n",
       "    </tr>\n",
       "    <tr>\n",
       "      <th>2009.0</th>\n",
       "      <td>182</td>\n",
       "    </tr>\n",
       "    <tr>\n",
       "      <th>2008.0</th>\n",
       "      <td>182</td>\n",
       "    </tr>\n",
       "    <tr>\n",
       "      <th>2005.0</th>\n",
       "      <td>182</td>\n",
       "    </tr>\n",
       "    <tr>\n",
       "      <th>2004.0</th>\n",
       "      <td>181</td>\n",
       "    </tr>\n",
       "    <tr>\n",
       "      <th>2001.0</th>\n",
       "      <td>179</td>\n",
       "    </tr>\n",
       "    <tr>\n",
       "      <th>2011.0</th>\n",
       "      <td>168</td>\n",
       "    </tr>\n",
       "    <tr>\n",
       "      <th>2010.0</th>\n",
       "      <td>168</td>\n",
       "    </tr>\n",
       "    <tr>\n",
       "      <th>2013.0</th>\n",
       "      <td>163</td>\n",
       "    </tr>\n",
       "  </tbody>\n",
       "</table>\n",
       "</div>"
      ],
      "text/plain": [
       "            movie_title\n",
       "title_year             \n",
       "2002.0              190\n",
       "2006.0              189\n",
       "2009.0              182\n",
       "2008.0              182\n",
       "2005.0              182\n",
       "2004.0              181\n",
       "2001.0              179\n",
       "2011.0              168\n",
       "2010.0              168\n",
       "2013.0              163"
      ]
     },
     "execution_count": 6,
     "metadata": {},
     "output_type": "execute_result"
    }
   ],
   "source": [
    "df[['movie_title','title_year']].groupby('title_year').count().sort_values('movie_title',ascending=False).head(10)"
   ]
  },
  {
   "cell_type": "markdown",
   "metadata": {},
   "source": [
    "Becsause a signficant amount of the movies are not from the US I will not be able to just drop the countries, instead I will use the python package: easymoney, to adjust for inflation and to adjust for the different currencies"
   ]
  },
  {
   "cell_type": "code",
   "execution_count": 8,
   "metadata": {},
   "outputs": [
    {
     "data": {
      "text/plain": [
       "124.81"
      ]
     },
     "execution_count": 8,
     "metadata": {},
     "output_type": "execute_result"
    }
   ],
   "source": [
    "from easymoney.money import EasyPeasy\n",
    "ep = EasyPeasy()\n",
    "ep.normalize(amount=100, region=\"France\", from_year=2010, to_year=\"latest\", base_currency=\"USD\")"
   ]
  },
  {
   "cell_type": "code",
   "execution_count": null,
   "metadata": {},
   "outputs": [],
   "source": [
    "len(df)"
   ]
  },
  {
   "cell_type": "code",
   "execution_count": 9,
   "metadata": {},
   "outputs": [
    {
     "name": "stderr",
     "output_type": "stream",
     "text": [
      "/home/juan/anaconda2/lib/python2.7/site-packages/easymoney/money.py:213: UserWarning: \n",
      "Inflation (CPI) data for 1940.0 in 'United States' could not be obtained from the\n",
      "International Monetary Fund database currently cached.\n",
      "Falling back to 1960.\n",
      "  warn(warn_msg % (year, natural_region_name, str(fall_back_year)))\n",
      "/home/juan/anaconda2/lib/python2.7/site-packages/easymoney/money.py:213: UserWarning: \n",
      "Inflation (CPI) data for 1927.0 in 'Germany' could not be obtained from the\n",
      "International Monetary Fund database currently cached.\n",
      "Falling back to 1960.\n",
      "  warn(warn_msg % (year, natural_region_name, str(fall_back_year)))\n",
      "/home/juan/anaconda2/lib/python2.7/site-packages/easymoney/money.py:213: UserWarning: \n",
      "Inflation (CPI) data for 1946.0 in 'United States' could not be obtained from the\n",
      "International Monetary Fund database currently cached.\n",
      "Falling back to 1960.\n",
      "  warn(warn_msg % (year, natural_region_name, str(fall_back_year)))\n",
      "/home/juan/anaconda2/lib/python2.7/site-packages/easymoney/money.py:213: UserWarning: \n",
      "Inflation (CPI) data for 1953.0 in 'United States' could not be obtained from the\n",
      "International Monetary Fund database currently cached.\n",
      "Falling back to 1960.\n",
      "  warn(warn_msg % (year, natural_region_name, str(fall_back_year)))\n"
     ]
    }
   ],
   "source": [
    "normalize_gross=[]\n",
    "drop_index=[]\n",
    "normalize_budget=[]\n",
    "for items in range(len(df)):\n",
    "    try:\n",
    "        normalized_item=ep.normalize(amount=df['gross'][items], region=df['country'][items], from_year=df['title_year'][items], to_year=\"latest\", base_currency=\"USD\")\n",
    "        normalized_item2=ep.normalize(amount=df['budget'][items], region=df['country'][items], from_year=df['title_year'][items], to_year=\"latest\", base_currency=\"USD\")\n",
    "        normalize_gross.append(normalized_item)\n",
    "        normalize_budget.append(normalized_item2)\n",
    "    except: \n",
    "        drop_index.append(items)\n",
    "\n"
   ]
  },
  {
   "cell_type": "code",
   "execution_count": 11,
   "metadata": {
    "collapsed": true
   },
   "outputs": [],
   "source": [
    "df=df.drop(df.index[drop_index])"
   ]
  },
  {
   "cell_type": "code",
   "execution_count": null,
   "metadata": {
    "collapsed": true
   },
   "outputs": [],
   "source": [
    "len(normalize_gross), len(df)"
   ]
  },
  {
   "cell_type": "code",
   "execution_count": 12,
   "metadata": {},
   "outputs": [],
   "source": [
    "df['gross']=normalize_gross\n",
    "df['budget']=normalize_budget"
   ]
  },
  {
   "cell_type": "markdown",
   "metadata": {},
   "source": [
    "As you can see I normalized gross into the current year and into USA dollars; however, because some of the rows had a combination of year and countries that were not avaible to the CPI index that 'easy money' stems from, I had to drop those rows from my dataframe leaving me 3305 rows to work with"
   ]
  },
  {
   "cell_type": "markdown",
   "metadata": {},
   "source": [
    "Finally I will seperate the data into test and training in order to prevent myself from overfitting the data in my model and inferential statistics"
   ]
  },
  {
   "cell_type": "code",
   "execution_count": 13,
   "metadata": {
    "collapsed": true
   },
   "outputs": [],
   "source": [
    "df.to_csv('final_data')"
   ]
  },
  {
   "cell_type": "code",
   "execution_count": 14,
   "metadata": {},
   "outputs": [],
   "source": [
    "train, validate, test = np.split(df.sample(frac=1), [int(.6*len(df)), int(.8*len(df))])"
   ]
  },
  {
   "cell_type": "code",
   "execution_count": 17,
   "metadata": {
    "collapsed": true
   },
   "outputs": [],
   "source": [
    "test.to_csv('test_data')\n",
    "train.to_csv('train_data')\n",
    "validate.to_csv('validate_data')\n"
   ]
  }
 ],
 "metadata": {
  "kernelspec": {
   "display_name": "Python 2",
   "language": "python",
   "name": "python2"
  },
  "language_info": {
   "codemirror_mode": {
    "name": "ipython",
    "version": 2
   },
   "file_extension": ".py",
   "mimetype": "text/x-python",
   "name": "python",
   "nbconvert_exporter": "python",
   "pygments_lexer": "ipython2",
   "version": "2.7.13"
  }
 },
 "nbformat": 4,
 "nbformat_minor": 2
}
